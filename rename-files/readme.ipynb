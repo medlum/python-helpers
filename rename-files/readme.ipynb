import os
import re
from os import path
from helper_rename_file import convert_name, rename_file

textfile = 'C:/Users/andy_/Documents/ISS/SBforStudent/October_2020/assessment_rename/class_name.txt'
path = 'C:/Users/andy_/Documents/ISS/SBforStudent/October_2020/assessment_rename/ANOVA'

convert_name(textfile = textfile, extension = 'rmd')
rename_file(path = path)
