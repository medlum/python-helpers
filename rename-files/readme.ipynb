## Useful for renaming multiple files with long filenames.

- The program renames each filename by matching the corresponding name supplied by a text file.
- Require equal length between N rows in text file the number of files to be renamed.
- Ensure the order between text file and the files in the file path are the same.

import os
import re
from os import path
from helper_rename_file import convert_name, rename_file

textfile = 'C:/Users/John/Documents/file.txt'
path = 'C:/Users/John/Folder'

convert_name(textfile = textfile, extension = 'rmd')
rename_file(path = path)
